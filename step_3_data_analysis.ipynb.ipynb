{
 "cells": [
  {
   "cell_type": "code",
   "execution_count": 1,
   "id": "d2c1b686-ccc6-4e7b-ac5e-0c86a7800f8b",
   "metadata": {},
   "outputs": [
    {
     "data": {
      "text/html": [
       "<div>\n",
       "<style scoped>\n",
       "    .dataframe tbody tr th:only-of-type {\n",
       "        vertical-align: middle;\n",
       "    }\n",
       "\n",
       "    .dataframe tbody tr th {\n",
       "        vertical-align: top;\n",
       "    }\n",
       "\n",
       "    .dataframe thead th {\n",
       "        text-align: right;\n",
       "    }\n",
       "</style>\n",
       "<table border=\"1\" class=\"dataframe\">\n",
       "  <thead>\n",
       "    <tr style=\"text-align: right;\">\n",
       "      <th></th>\n",
       "      <th>Date</th>\n",
       "      <th>Team1</th>\n",
       "      <th>Team2</th>\n",
       "      <th>Venue</th>\n",
       "      <th>Winner</th>\n",
       "      <th>Win Margin</th>\n",
       "      <th>Result</th>\n",
       "    </tr>\n",
       "  </thead>\n",
       "  <tbody>\n",
       "    <tr>\n",
       "      <th>0</th>\n",
       "      <td>2025-03-22</td>\n",
       "      <td>CSK</td>\n",
       "      <td>RCB</td>\n",
       "      <td>Chennai</td>\n",
       "      <td>CSK</td>\n",
       "      <td>6 wickets</td>\n",
       "      <td>CSK won by 6 wickets</td>\n",
       "    </tr>\n",
       "    <tr>\n",
       "      <th>1</th>\n",
       "      <td>2025-03-23</td>\n",
       "      <td>MI</td>\n",
       "      <td>GT</td>\n",
       "      <td>Mumbai</td>\n",
       "      <td>GT</td>\n",
       "      <td>5 runs</td>\n",
       "      <td>GT won by 5 runs</td>\n",
       "    </tr>\n",
       "    <tr>\n",
       "      <th>2</th>\n",
       "      <td>2025-03-24</td>\n",
       "      <td>KKR</td>\n",
       "      <td>PBKS</td>\n",
       "      <td>Kolkata</td>\n",
       "      <td>PBKS</td>\n",
       "      <td>3 wickets</td>\n",
       "      <td>PBKS won by 3 wickets</td>\n",
       "    </tr>\n",
       "    <tr>\n",
       "      <th>3</th>\n",
       "      <td>2025-03-25</td>\n",
       "      <td>DC</td>\n",
       "      <td>SRH</td>\n",
       "      <td>Delhi</td>\n",
       "      <td>DC</td>\n",
       "      <td>8 runs</td>\n",
       "      <td>DC won by 8 runs</td>\n",
       "    </tr>\n",
       "    <tr>\n",
       "      <th>4</th>\n",
       "      <td>2025-03-26</td>\n",
       "      <td>LSG</td>\n",
       "      <td>RR</td>\n",
       "      <td>Lucknow</td>\n",
       "      <td>RR</td>\n",
       "      <td>4 wickets</td>\n",
       "      <td>RR won by 4 wickets</td>\n",
       "    </tr>\n",
       "  </tbody>\n",
       "</table>\n",
       "</div>"
      ],
      "text/plain": [
       "         Date Team1 Team2    Venue Winner Win Margin                 Result\n",
       "0  2025-03-22   CSK   RCB  Chennai    CSK  6 wickets   CSK won by 6 wickets\n",
       "1  2025-03-23    MI    GT   Mumbai     GT     5 runs       GT won by 5 runs\n",
       "2  2025-03-24   KKR  PBKS  Kolkata   PBKS  3 wickets  PBKS won by 3 wickets\n",
       "3  2025-03-25    DC   SRH    Delhi     DC     8 runs       DC won by 8 runs\n",
       "4  2025-03-26   LSG    RR  Lucknow     RR  4 wickets    RR won by 4 wickets"
      ]
     },
     "execution_count": 1,
     "metadata": {},
     "output_type": "execute_result"
    }
   ],
   "source": [
    "import pandas as pd\n",
    "\n",
    "df = pd.read_csv(\"ipl_2025_cleaned.csv\")\n",
    "df.head()\n"
   ]
  },
  {
   "cell_type": "code",
   "execution_count": 2,
   "id": "f26fab17-a44e-4c89-98d4-d768d7e689aa",
   "metadata": {},
   "outputs": [
    {
     "name": "stdout",
     "output_type": "stream",
     "text": [
      "📊 Total matches played: 10\n"
     ]
    }
   ],
   "source": [
    "print(\"📊 Total matches played:\", len(df))\n"
   ]
  },
  {
   "cell_type": "code",
   "execution_count": 3,
   "id": "8530a6f5-8cb7-42b4-a3b9-46b29d3d69f1",
   "metadata": {},
   "outputs": [
    {
     "name": "stdout",
     "output_type": "stream",
     "text": [
      "🏆 Most Winning Teams:\n",
      " Winner\n",
      "CSK     2\n",
      "GT      2\n",
      "DC      2\n",
      "PBKS    1\n",
      "RR      1\n",
      "RCB     1\n",
      "SRH     1\n",
      "Name: count, dtype: int64\n"
     ]
    }
   ],
   "source": [
    "# Count how many times each team won\n",
    "top_winners = df['Winner'].value_counts()\n",
    "print(\"🏆 Most Winning Teams:\\n\", top_winners)\n"
   ]
  },
  {
   "cell_type": "code",
   "execution_count": 4,
   "id": "3a5f7b59-a6f2-42ff-9446-cbbccc813936",
   "metadata": {},
   "outputs": [
    {
     "data": {
      "text/html": [
       "<div>\n",
       "<style scoped>\n",
       "    .dataframe tbody tr th:only-of-type {\n",
       "        vertical-align: middle;\n",
       "    }\n",
       "\n",
       "    .dataframe tbody tr th {\n",
       "        vertical-align: top;\n",
       "    }\n",
       "\n",
       "    .dataframe thead th {\n",
       "        text-align: right;\n",
       "    }\n",
       "</style>\n",
       "<table border=\"1\" class=\"dataframe\">\n",
       "  <thead>\n",
       "    <tr style=\"text-align: right;\">\n",
       "      <th>Winner</th>\n",
       "      <th>CSK</th>\n",
       "      <th>DC</th>\n",
       "      <th>GT</th>\n",
       "      <th>PBKS</th>\n",
       "      <th>RCB</th>\n",
       "      <th>RR</th>\n",
       "      <th>SRH</th>\n",
       "    </tr>\n",
       "    <tr>\n",
       "      <th>Venue</th>\n",
       "      <th></th>\n",
       "      <th></th>\n",
       "      <th></th>\n",
       "      <th></th>\n",
       "      <th></th>\n",
       "      <th></th>\n",
       "      <th></th>\n",
       "    </tr>\n",
       "  </thead>\n",
       "  <tbody>\n",
       "    <tr>\n",
       "      <th>Ahmedabad</th>\n",
       "      <td>0.0</td>\n",
       "      <td>0.0</td>\n",
       "      <td>1.0</td>\n",
       "      <td>0.0</td>\n",
       "      <td>0.0</td>\n",
       "      <td>0.0</td>\n",
       "      <td>0.0</td>\n",
       "    </tr>\n",
       "    <tr>\n",
       "      <th>Bengaluru</th>\n",
       "      <td>0.0</td>\n",
       "      <td>0.0</td>\n",
       "      <td>0.0</td>\n",
       "      <td>0.0</td>\n",
       "      <td>1.0</td>\n",
       "      <td>0.0</td>\n",
       "      <td>0.0</td>\n",
       "    </tr>\n",
       "    <tr>\n",
       "      <th>Chandigarh</th>\n",
       "      <td>1.0</td>\n",
       "      <td>0.0</td>\n",
       "      <td>0.0</td>\n",
       "      <td>0.0</td>\n",
       "      <td>0.0</td>\n",
       "      <td>0.0</td>\n",
       "      <td>0.0</td>\n",
       "    </tr>\n",
       "    <tr>\n",
       "      <th>Chennai</th>\n",
       "      <td>1.0</td>\n",
       "      <td>0.0</td>\n",
       "      <td>0.0</td>\n",
       "      <td>0.0</td>\n",
       "      <td>0.0</td>\n",
       "      <td>0.0</td>\n",
       "      <td>0.0</td>\n",
       "    </tr>\n",
       "    <tr>\n",
       "      <th>Delhi</th>\n",
       "      <td>0.0</td>\n",
       "      <td>1.0</td>\n",
       "      <td>0.0</td>\n",
       "      <td>0.0</td>\n",
       "      <td>0.0</td>\n",
       "      <td>0.0</td>\n",
       "      <td>0.0</td>\n",
       "    </tr>\n",
       "    <tr>\n",
       "      <th>Hyderabad</th>\n",
       "      <td>0.0</td>\n",
       "      <td>0.0</td>\n",
       "      <td>0.0</td>\n",
       "      <td>0.0</td>\n",
       "      <td>0.0</td>\n",
       "      <td>0.0</td>\n",
       "      <td>1.0</td>\n",
       "    </tr>\n",
       "    <tr>\n",
       "      <th>Kolkata</th>\n",
       "      <td>0.0</td>\n",
       "      <td>0.0</td>\n",
       "      <td>0.0</td>\n",
       "      <td>1.0</td>\n",
       "      <td>0.0</td>\n",
       "      <td>0.0</td>\n",
       "      <td>0.0</td>\n",
       "    </tr>\n",
       "    <tr>\n",
       "      <th>Lucknow</th>\n",
       "      <td>0.0</td>\n",
       "      <td>1.0</td>\n",
       "      <td>0.0</td>\n",
       "      <td>0.0</td>\n",
       "      <td>0.0</td>\n",
       "      <td>1.0</td>\n",
       "      <td>0.0</td>\n",
       "    </tr>\n",
       "    <tr>\n",
       "      <th>Mumbai</th>\n",
       "      <td>0.0</td>\n",
       "      <td>0.0</td>\n",
       "      <td>1.0</td>\n",
       "      <td>0.0</td>\n",
       "      <td>0.0</td>\n",
       "      <td>0.0</td>\n",
       "      <td>0.0</td>\n",
       "    </tr>\n",
       "  </tbody>\n",
       "</table>\n",
       "</div>"
      ],
      "text/plain": [
       "Winner      CSK   DC   GT  PBKS  RCB   RR  SRH\n",
       "Venue                                         \n",
       "Ahmedabad   0.0  0.0  1.0   0.0  0.0  0.0  0.0\n",
       "Bengaluru   0.0  0.0  0.0   0.0  1.0  0.0  0.0\n",
       "Chandigarh  1.0  0.0  0.0   0.0  0.0  0.0  0.0\n",
       "Chennai     1.0  0.0  0.0   0.0  0.0  0.0  0.0\n",
       "Delhi       0.0  1.0  0.0   0.0  0.0  0.0  0.0\n",
       "Hyderabad   0.0  0.0  0.0   0.0  0.0  0.0  1.0\n",
       "Kolkata     0.0  0.0  0.0   1.0  0.0  0.0  0.0\n",
       "Lucknow     0.0  1.0  0.0   0.0  0.0  1.0  0.0\n",
       "Mumbai      0.0  0.0  1.0   0.0  0.0  0.0  0.0"
      ]
     },
     "execution_count": 4,
     "metadata": {},
     "output_type": "execute_result"
    }
   ],
   "source": [
    "venue_wins = df.groupby('Venue')['Winner'].value_counts().unstack().fillna(0)\n",
    "venue_wins\n"
   ]
  },
  {
   "cell_type": "code",
   "execution_count": 5,
   "id": "996f1a95-be6d-4c11-959e-659d5bdd37c8",
   "metadata": {},
   "outputs": [
    {
     "name": "stderr",
     "output_type": "stream",
     "text": [
      "<>:2: SyntaxWarning: invalid escape sequence '\\d'\n",
      "<>:2: SyntaxWarning: invalid escape sequence '\\d'\n",
      "C:\\Users\\shant\\AppData\\Local\\Temp\\ipykernel_4896\\3855774747.py:2: SyntaxWarning: invalid escape sequence '\\d'\n",
      "  df['Margin Number'] = df['Win Margin'].str.extract('(\\d+)').astype(float)\n"
     ]
    },
    {
     "data": {
      "text/plain": [
       "Margin Type\n",
       "Runs       11.250000\n",
       "Wickets     4.666667\n",
       "Name: Margin Number, dtype: float64"
      ]
     },
     "execution_count": 5,
     "metadata": {},
     "output_type": "execute_result"
    }
   ],
   "source": [
    "df['Margin Type'] = df['Win Margin'].apply(lambda x: 'Runs' if 'runs' in x else 'Wickets')\n",
    "df['Margin Number'] = df['Win Margin'].str.extract('(\\d+)').astype(float)\n",
    "\n",
    "# Average margin by type\n",
    "df.groupby('Margin Type')['Margin Number'].mean()\n"
   ]
  },
  {
   "cell_type": "code",
   "execution_count": null,
   "id": "0d1fcb66-2c82-45fd-8f1d-34922cb1bf9b",
   "metadata": {},
   "outputs": [],
   "source": []
  }
 ],
 "metadata": {
  "kernelspec": {
   "display_name": "Python 3 (ipykernel)",
   "language": "python",
   "name": "python3"
  },
  "language_info": {
   "codemirror_mode": {
    "name": "ipython",
    "version": 3
   },
   "file_extension": ".py",
   "mimetype": "text/x-python",
   "name": "python",
   "nbconvert_exporter": "python",
   "pygments_lexer": "ipython3",
   "version": "3.13.5"
  }
 },
 "nbformat": 4,
 "nbformat_minor": 5
}
