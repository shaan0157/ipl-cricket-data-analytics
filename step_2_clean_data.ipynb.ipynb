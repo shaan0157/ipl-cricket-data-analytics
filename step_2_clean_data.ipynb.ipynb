{
 "cells": [
  {
   "cell_type": "code",
   "execution_count": 1,
   "id": "134fadbe-f173-49bc-bc89-b1bbf7b28cd1",
   "metadata": {},
   "outputs": [
    {
     "data": {
      "text/html": [
       "<div>\n",
       "<style scoped>\n",
       "    .dataframe tbody tr th:only-of-type {\n",
       "        vertical-align: middle;\n",
       "    }\n",
       "\n",
       "    .dataframe tbody tr th {\n",
       "        vertical-align: top;\n",
       "    }\n",
       "\n",
       "    .dataframe thead th {\n",
       "        text-align: right;\n",
       "    }\n",
       "</style>\n",
       "<table border=\"1\" class=\"dataframe\">\n",
       "  <thead>\n",
       "    <tr style=\"text-align: right;\">\n",
       "      <th></th>\n",
       "      <th>Date</th>\n",
       "      <th>Team1</th>\n",
       "      <th>Team2</th>\n",
       "      <th>Venue</th>\n",
       "      <th>Result</th>\n",
       "    </tr>\n",
       "  </thead>\n",
       "  <tbody>\n",
       "    <tr>\n",
       "      <th>0</th>\n",
       "      <td>22-Mar-2025</td>\n",
       "      <td>CSK</td>\n",
       "      <td>RCB</td>\n",
       "      <td>Chennai</td>\n",
       "      <td>CSK won by 6 wickets</td>\n",
       "    </tr>\n",
       "    <tr>\n",
       "      <th>1</th>\n",
       "      <td>23-Mar-2025</td>\n",
       "      <td>MI</td>\n",
       "      <td>GT</td>\n",
       "      <td>Mumbai</td>\n",
       "      <td>GT won by 5 runs</td>\n",
       "    </tr>\n",
       "    <tr>\n",
       "      <th>2</th>\n",
       "      <td>24-Mar-2025</td>\n",
       "      <td>KKR</td>\n",
       "      <td>PBKS</td>\n",
       "      <td>Kolkata</td>\n",
       "      <td>PBKS won by 3 wickets</td>\n",
       "    </tr>\n",
       "    <tr>\n",
       "      <th>3</th>\n",
       "      <td>25-Mar-2025</td>\n",
       "      <td>DC</td>\n",
       "      <td>SRH</td>\n",
       "      <td>Delhi</td>\n",
       "      <td>DC won by 8 runs</td>\n",
       "    </tr>\n",
       "    <tr>\n",
       "      <th>4</th>\n",
       "      <td>26-Mar-2025</td>\n",
       "      <td>LSG</td>\n",
       "      <td>RR</td>\n",
       "      <td>Lucknow</td>\n",
       "      <td>RR won by 4 wickets</td>\n",
       "    </tr>\n",
       "  </tbody>\n",
       "</table>\n",
       "</div>"
      ],
      "text/plain": [
       "          Date Team1 Team2    Venue                 Result\n",
       "0  22-Mar-2025   CSK   RCB  Chennai   CSK won by 6 wickets\n",
       "1  23-Mar-2025    MI    GT   Mumbai       GT won by 5 runs\n",
       "2  24-Mar-2025   KKR  PBKS  Kolkata  PBKS won by 3 wickets\n",
       "3  25-Mar-2025    DC   SRH    Delhi       DC won by 8 runs\n",
       "4  26-Mar-2025   LSG    RR  Lucknow    RR won by 4 wickets"
      ]
     },
     "execution_count": 1,
     "metadata": {},
     "output_type": "execute_result"
    }
   ],
   "source": [
    "import pandas as pd\n",
    "\n",
    "df = pd.read_csv(\"ipl_2025_results.csv\")\n",
    "df.head()\n"
   ]
  },
  {
   "cell_type": "code",
   "execution_count": 2,
   "id": "026ed004-64e7-4cda-8bfe-8123247ad136",
   "metadata": {},
   "outputs": [],
   "source": [
    "df['Winner'] = df['Result'].apply(lambda x: x.split(' won')[0])\n",
    "df['Win Margin'] = df['Result'].apply(lambda x: x.split('by ')[-1])\n"
   ]
  },
  {
   "cell_type": "code",
   "execution_count": 3,
   "id": "5646658d-c02a-4d7b-8530-5c3ddf926e00",
   "metadata": {},
   "outputs": [],
   "source": [
    "df['Date'] = pd.to_datetime(df['Date'], format='%d-%b-%Y')\n"
   ]
  },
  {
   "cell_type": "code",
   "execution_count": 4,
   "id": "882613c8-3c71-4315-b3b1-f6ed36f570ad",
   "metadata": {},
   "outputs": [
    {
     "data": {
      "text/html": [
       "<div>\n",
       "<style scoped>\n",
       "    .dataframe tbody tr th:only-of-type {\n",
       "        vertical-align: middle;\n",
       "    }\n",
       "\n",
       "    .dataframe tbody tr th {\n",
       "        vertical-align: top;\n",
       "    }\n",
       "\n",
       "    .dataframe thead th {\n",
       "        text-align: right;\n",
       "    }\n",
       "</style>\n",
       "<table border=\"1\" class=\"dataframe\">\n",
       "  <thead>\n",
       "    <tr style=\"text-align: right;\">\n",
       "      <th></th>\n",
       "      <th>Date</th>\n",
       "      <th>Team1</th>\n",
       "      <th>Team2</th>\n",
       "      <th>Venue</th>\n",
       "      <th>Winner</th>\n",
       "      <th>Win Margin</th>\n",
       "      <th>Result</th>\n",
       "    </tr>\n",
       "  </thead>\n",
       "  <tbody>\n",
       "    <tr>\n",
       "      <th>0</th>\n",
       "      <td>2025-03-22</td>\n",
       "      <td>CSK</td>\n",
       "      <td>RCB</td>\n",
       "      <td>Chennai</td>\n",
       "      <td>CSK</td>\n",
       "      <td>6 wickets</td>\n",
       "      <td>CSK won by 6 wickets</td>\n",
       "    </tr>\n",
       "    <tr>\n",
       "      <th>1</th>\n",
       "      <td>2025-03-23</td>\n",
       "      <td>MI</td>\n",
       "      <td>GT</td>\n",
       "      <td>Mumbai</td>\n",
       "      <td>GT</td>\n",
       "      <td>5 runs</td>\n",
       "      <td>GT won by 5 runs</td>\n",
       "    </tr>\n",
       "    <tr>\n",
       "      <th>2</th>\n",
       "      <td>2025-03-24</td>\n",
       "      <td>KKR</td>\n",
       "      <td>PBKS</td>\n",
       "      <td>Kolkata</td>\n",
       "      <td>PBKS</td>\n",
       "      <td>3 wickets</td>\n",
       "      <td>PBKS won by 3 wickets</td>\n",
       "    </tr>\n",
       "    <tr>\n",
       "      <th>3</th>\n",
       "      <td>2025-03-25</td>\n",
       "      <td>DC</td>\n",
       "      <td>SRH</td>\n",
       "      <td>Delhi</td>\n",
       "      <td>DC</td>\n",
       "      <td>8 runs</td>\n",
       "      <td>DC won by 8 runs</td>\n",
       "    </tr>\n",
       "    <tr>\n",
       "      <th>4</th>\n",
       "      <td>2025-03-26</td>\n",
       "      <td>LSG</td>\n",
       "      <td>RR</td>\n",
       "      <td>Lucknow</td>\n",
       "      <td>RR</td>\n",
       "      <td>4 wickets</td>\n",
       "      <td>RR won by 4 wickets</td>\n",
       "    </tr>\n",
       "  </tbody>\n",
       "</table>\n",
       "</div>"
      ],
      "text/plain": [
       "        Date Team1 Team2    Venue Winner Win Margin                 Result\n",
       "0 2025-03-22   CSK   RCB  Chennai    CSK  6 wickets   CSK won by 6 wickets\n",
       "1 2025-03-23    MI    GT   Mumbai     GT     5 runs       GT won by 5 runs\n",
       "2 2025-03-24   KKR  PBKS  Kolkata   PBKS  3 wickets  PBKS won by 3 wickets\n",
       "3 2025-03-25    DC   SRH    Delhi     DC     8 runs       DC won by 8 runs\n",
       "4 2025-03-26   LSG    RR  Lucknow     RR  4 wickets    RR won by 4 wickets"
      ]
     },
     "execution_count": 4,
     "metadata": {},
     "output_type": "execute_result"
    }
   ],
   "source": [
    "df = df[['Date', 'Team1', 'Team2', 'Venue', 'Winner', 'Win Margin', 'Result']]\n",
    "df.head()\n"
   ]
  },
  {
   "cell_type": "code",
   "execution_count": 5,
   "id": "40bd1281-3163-4bd0-a179-76a658abb216",
   "metadata": {},
   "outputs": [
    {
     "name": "stdout",
     "output_type": "stream",
     "text": [
      "✅ Cleaned data saved!\n"
     ]
    }
   ],
   "source": [
    "df.to_csv(\"ipl_2025_cleaned.csv\", index=False)\n",
    "print(\"✅ Cleaned data saved!\")\n"
   ]
  },
  {
   "cell_type": "code",
   "execution_count": 6,
   "id": "42156932-b96e-44f9-956c-91ba93349e2d",
   "metadata": {},
   "outputs": [
    {
     "data": {
      "text/html": [
       "<a href='ipl_2025_cleaned.csv' target='_blank'>ipl_2025_cleaned.csv</a><br>"
      ],
      "text/plain": [
       "C:\\Users\\shant\\project cricket\\ipl_2025_cleaned.csv"
      ]
     },
     "execution_count": 6,
     "metadata": {},
     "output_type": "execute_result"
    }
   ],
   "source": [
    "from IPython.display import FileLink\n",
    "FileLink('ipl_2025_cleaned.csv')\n"
   ]
  },
  {
   "cell_type": "code",
   "execution_count": 7,
   "id": "48ea0adf-9edc-491e-8ac3-26b0c3b45cee",
   "metadata": {},
   "outputs": [
    {
     "ename": "FileNotFoundError",
     "evalue": "[Errno 2] No such file or directory: '/home/username/Downloads/ipl_2025_cleaned.csv'",
     "output_type": "error",
     "traceback": [
      "\u001b[31m---------------------------------------------------------------------------\u001b[39m",
      "\u001b[31mFileNotFoundError\u001b[39m                         Traceback (most recent call last)",
      "\u001b[36mCell\u001b[39m\u001b[36m \u001b[39m\u001b[32mIn[7]\u001b[39m\u001b[32m, line 4\u001b[39m\n\u001b[32m      1\u001b[39m \u001b[38;5;28;01mimport\u001b[39;00m\u001b[38;5;250m \u001b[39m\u001b[34;01mshutil\u001b[39;00m\n\u001b[32m      3\u001b[39m \u001b[38;5;66;03m# Give full path where you want to save it (Downloads folder in your PC)\u001b[39;00m\n\u001b[32m----> \u001b[39m\u001b[32m4\u001b[39m \u001b[43mshutil\u001b[49m\u001b[43m.\u001b[49m\u001b[43mcopy\u001b[49m\u001b[43m(\u001b[49m\u001b[33;43m\"\u001b[39;49m\u001b[33;43mipl_2025_cleaned.csv\u001b[39;49m\u001b[33;43m\"\u001b[39;49m\u001b[43m,\u001b[49m\u001b[43m \u001b[49m\u001b[33;43m\"\u001b[39;49m\u001b[33;43m/home/username/Downloads/ipl_2025_cleaned.csv\u001b[39;49m\u001b[33;43m\"\u001b[39;49m\u001b[43m)\u001b[49m\n",
      "\u001b[36mFile \u001b[39m\u001b[32m~\\AppData\\Local\\Programs\\Python\\Python313\\Lib\\shutil.py:428\u001b[39m, in \u001b[36mcopy\u001b[39m\u001b[34m(src, dst, follow_symlinks)\u001b[39m\n\u001b[32m    426\u001b[39m \u001b[38;5;28;01mif\u001b[39;00m os.path.isdir(dst):\n\u001b[32m    427\u001b[39m     dst = os.path.join(dst, os.path.basename(src))\n\u001b[32m--> \u001b[39m\u001b[32m428\u001b[39m \u001b[43mcopyfile\u001b[49m\u001b[43m(\u001b[49m\u001b[43msrc\u001b[49m\u001b[43m,\u001b[49m\u001b[43m \u001b[49m\u001b[43mdst\u001b[49m\u001b[43m,\u001b[49m\u001b[43m \u001b[49m\u001b[43mfollow_symlinks\u001b[49m\u001b[43m=\u001b[49m\u001b[43mfollow_symlinks\u001b[49m\u001b[43m)\u001b[49m\n\u001b[32m    429\u001b[39m copymode(src, dst, follow_symlinks=follow_symlinks)\n\u001b[32m    430\u001b[39m \u001b[38;5;28;01mreturn\u001b[39;00m dst\n",
      "\u001b[36mFile \u001b[39m\u001b[32m~\\AppData\\Local\\Programs\\Python\\Python313\\Lib\\shutil.py:262\u001b[39m, in \u001b[36mcopyfile\u001b[39m\u001b[34m(src, dst, follow_symlinks)\u001b[39m\n\u001b[32m    260\u001b[39m \u001b[38;5;28;01mwith\u001b[39;00m \u001b[38;5;28mopen\u001b[39m(src, \u001b[33m'\u001b[39m\u001b[33mrb\u001b[39m\u001b[33m'\u001b[39m) \u001b[38;5;28;01mas\u001b[39;00m fsrc:\n\u001b[32m    261\u001b[39m     \u001b[38;5;28;01mtry\u001b[39;00m:\n\u001b[32m--> \u001b[39m\u001b[32m262\u001b[39m         \u001b[38;5;28;01mwith\u001b[39;00m \u001b[38;5;28;43mopen\u001b[39;49m\u001b[43m(\u001b[49m\u001b[43mdst\u001b[49m\u001b[43m,\u001b[49m\u001b[43m \u001b[49m\u001b[33;43m'\u001b[39;49m\u001b[33;43mwb\u001b[39;49m\u001b[33;43m'\u001b[39;49m\u001b[43m)\u001b[49m \u001b[38;5;28;01mas\u001b[39;00m fdst:\n\u001b[32m    263\u001b[39m             \u001b[38;5;66;03m# macOS\u001b[39;00m\n\u001b[32m    264\u001b[39m             \u001b[38;5;28;01mif\u001b[39;00m _HAS_FCOPYFILE:\n\u001b[32m    265\u001b[39m                 \u001b[38;5;28;01mtry\u001b[39;00m:\n",
      "\u001b[31mFileNotFoundError\u001b[39m: [Errno 2] No such file or directory: '/home/username/Downloads/ipl_2025_cleaned.csv'"
     ]
    }
   ],
   "source": [
    "import shutil\n",
    "\n",
    "# Give full path where you want to save it (Downloads folder in your PC)\n",
    "shutil.copy(\"ipl_2025_cleaned.csv\", \"/home/username/Downloads/ipl_2025_cleaned.csv\")\n"
   ]
  },
  {
   "cell_type": "code",
   "execution_count": null,
   "id": "742552b8-ad61-499c-b725-a6dd58f10510",
   "metadata": {},
   "outputs": [],
   "source": []
  }
 ],
 "metadata": {
  "kernelspec": {
   "display_name": "Python 3 (ipykernel)",
   "language": "python",
   "name": "python3"
  },
  "language_info": {
   "codemirror_mode": {
    "name": "ipython",
    "version": 3
   },
   "file_extension": ".py",
   "mimetype": "text/x-python",
   "name": "python",
   "nbconvert_exporter": "python",
   "pygments_lexer": "ipython3",
   "version": "3.13.5"
  }
 },
 "nbformat": 4,
 "nbformat_minor": 5
}
