{
 "cells": [
  {
   "cell_type": "code",
   "execution_count": 1,
   "id": "835040ff-5c3b-466f-87ff-30f279b13fad",
   "metadata": {},
   "outputs": [
    {
     "name": "stdout",
     "output_type": "stream",
     "text": [
      "✅ File 'ipl_2025_results.csv' created successfully!\n"
     ]
    }
   ],
   "source": [
    "import pandas as pd\n",
    "\n",
    "# Sample IPL 2025 data\n",
    "data = {\n",
    "    \"Date\": [\"22-Mar-2025\", \"23-Mar-2025\", \"24-Mar-2025\", \"25-Mar-2025\", \"26-Mar-2025\",\n",
    "             \"27-Mar-2025\", \"28-Mar-2025\", \"29-Mar-2025\", \"30-Mar-2025\", \"31-Mar-2025\"],\n",
    "    \"Team1\": [\"CSK\", \"MI\", \"KKR\", \"DC\", \"LSG\", \"RCB\", \"GT\", \"PBKS\", \"SRH\", \"LSG\"],\n",
    "    \"Team2\": [\"RCB\", \"GT\", \"PBKS\", \"SRH\", \"RR\", \"MI\", \"KKR\", \"CSK\", \"RR\", \"DC\"],\n",
    "    \"Venue\": [\"Chennai\", \"Mumbai\", \"Kolkata\", \"Delhi\", \"Lucknow\",\n",
    "              \"Bengaluru\", \"Ahmedabad\", \"Chandigarh\", \"Hyderabad\", \"Lucknow\"],\n",
    "    \"Result\": [\"CSK won by 6 wickets\", \"GT won by 5 runs\", \"PBKS won by 3 wickets\",\n",
    "               \"DC won by 8 runs\", \"RR won by 4 wickets\", \"RCB won by 22 runs\",\n",
    "               \"GT won by 7 wickets\", \"CSK won by 2 wickets\", \"SRH won by 10 runs\", \"DC won by 6 wickets\"]\n",
    "}\n",
    "\n",
    "# Convert to DataFrame\n",
    "df = pd.DataFrame(data)\n",
    "\n",
    "# Save to CSV\n",
    "df.to_csv(\"ipl_2025_results.csv\", index=False)\n",
    "\n",
    "print(\"✅ File 'ipl_2025_results.csv' created successfully!\")\n"
   ]
  },
  {
   "cell_type": "code",
   "execution_count": null,
   "id": "35ff0d7c-0869-41a6-8112-935654366219",
   "metadata": {},
   "outputs": [],
   "source": []
  }
 ],
 "metadata": {
  "kernelspec": {
   "display_name": "Python 3 (ipykernel)",
   "language": "python",
   "name": "python3"
  },
  "language_info": {
   "codemirror_mode": {
    "name": "ipython",
    "version": 3
   },
   "file_extension": ".py",
   "mimetype": "text/x-python",
   "name": "python",
   "nbconvert_exporter": "python",
   "pygments_lexer": "ipython3",
   "version": "3.13.5"
  }
 },
 "nbformat": 4,
 "nbformat_minor": 5
}
